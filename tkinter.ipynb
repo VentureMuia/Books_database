{
 "cells": [
  {
   "cell_type": "code",
   "execution_count": 1,
   "metadata": {},
   "outputs": [],
   "source": [
    "from tkinter import *"
   ]
  },
  {
   "cell_type": "code",
   "execution_count": 11,
   "metadata": {},
   "outputs": [],
   "source": [
    "window=Tk()\n",
    "def km_miles():\n",
    "    miles=float(e1_value.get())*1.6\n",
    "    t1.insert(END,miles)\n",
    "\n",
    "b1=Button(window,text='Execute',command=km_miles)\n",
    "b1.grid(row=0,column=0)\n",
    "\n",
    "e1_value=StringVar()\n",
    "e1=Entry(window,textvariable=e1_value)\n",
    "e1.grid(row=0,column=1)\n",
    "\n",
    "t1=Text(window,height=1,width=25)\n",
    "t1.grid(row=0,column=2)\n",
    "\n",
    "window.mainloop()"
   ]
  },
  {
   "cell_type": "code",
   "execution_count": 35,
   "metadata": {},
   "outputs": [],
   "source": [
    "window=Tk()\n",
    "def kg_converter():\n",
    "    grams=float(e1_variable.get())*1000\n",
    "    pounds=float(e1_variable.get())*2.20462\n",
    "    ounces=float(e1_variable.get())*35.274\n",
    "    t1.insert(END,grams)\n",
    "    t2.insert(END,pounds)\n",
    "    t3.insert(END,ounces)\n",
    "    \n",
    "e1_variable=StringVar()\n",
    "e1=Entry(window,textvariable=e1_variable)\n",
    "e1.grid(row=0,column=1)\n",
    "\n",
    "b1=Button(window,text='convert',command=kg_converter)\n",
    "b1.grid(row=0,column=2)\n",
    "\n",
    "t1=Text(window,height=1,width=20)\n",
    "t1.grid(row=1,column=1)\n",
    "t2=Text(window,height=1,width=20)\n",
    "t2.grid(row=1,column=2)\n",
    "t3=Text(window,height=1,width=20)\n",
    "t3.grid(row=1,column=3)\n",
    "window.mainloop()"
   ]
  },
  {
   "cell_type": "code",
   "execution_count": 28,
   "metadata": {},
   "outputs": [],
   "source": [
    "window=Tk()\n",
    "\n",
    "def from_kg():\n",
    "    gram=float(e2_value.get())*1000\n",
    "    pound=float(e2_value.get())*2.20462\n",
    "    ounce=float(e2_value.get())*35.274\n",
    "    t1.delete(\"1.0\", END)\n",
    "    t1.insert(END,gram)\n",
    "    t2.delete(\"1.0\", END)\n",
    "    t2.insert(END,pound)\n",
    "    t3.delete(\"1.0\", END)\n",
    "    t3.insert(END,ounce)\n",
    "\n",
    "e1=Label(window,text=\"Kg\")\n",
    "e1.grid(row=0,column=0)\n",
    "\n",
    "e2_value=StringVar()\n",
    "e2=Entry(window,textvariable=e2_value)\n",
    "e2.grid(row=0,column=1)\n",
    "\n",
    "b1=Button(window,text=\"Convert\",command=from_kg)\n",
    "b1.grid(row=0,column=2)\n",
    "\n",
    "t1=Text(window,height=1,width=20)\n",
    "t1.grid(row=1,column=0)\n",
    "\n",
    "t2=Text(window,height=1,width=20)\n",
    "t2.grid(row=1,column=1)\n",
    "\n",
    "t3=Text(window,height=1,width=20)\n",
    "t3.grid(row=1,column=2)\n",
    "\n",
    "window.mainloop()"
   ]
  },
  {
   "cell_type": "code",
   "execution_count": 34,
   "metadata": {},
   "outputs": [
    {
     "name": "stdout",
     "output_type": "stream",
     "text": [
      "Help on method delete in module tkinter:\n",
      "\n",
      "delete(index1, index2=None) method of tkinter.Text instance\n",
      "    Delete the characters between INDEX1 and INDEX2 (not included).\n",
      "\n"
     ]
    }
   ],
   "source": [
    "help(t3.delete)"
   ]
  },
  {
   "cell_type": "code",
   "execution_count": null,
   "metadata": {},
   "outputs": [],
   "source": []
  }
 ],
 "metadata": {
  "kernelspec": {
   "display_name": "Python 3",
   "language": "python",
   "name": "python3"
  },
  "language_info": {
   "codemirror_mode": {
    "name": "ipython",
    "version": 3
   },
   "file_extension": ".py",
   "mimetype": "text/x-python",
   "name": "python",
   "nbconvert_exporter": "python",
   "pygments_lexer": "ipython3",
   "version": "3.7.7"
  }
 },
 "nbformat": 4,
 "nbformat_minor": 4
}
