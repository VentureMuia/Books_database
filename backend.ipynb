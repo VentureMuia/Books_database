{
 "cells": [
  {
   "cell_type": "code",
   "execution_count": 41,
   "metadata": {},
   "outputs": [
    {
     "name": "stdout",
     "output_type": "stream",
     "text": [
      "[(None, 'The sea', 'John Tablet', 1918, 193123132), (None, 'The sea', 'John Tablet', 1918, 193123132), (None, 'The sea', 'John Tablet', 1918, 193123132), (None, 'The sea', 'John Tablet', 1918, 193123132), (None, 'The sea', 'John Tablet', 1918, 193123132), (None, 'The sun', 'John Smith', 1918, 193123132), (None, 'The sun', 'John Smith', 1918, 193123135), (None, 'The sun', 'John Smith', 1918, 193123135), (None, 'The sun', 'John Smith', 1918, 193123135), (None, 'The sun', 'John Smith', 1918, 193123135)]\n"
     ]
    }
   ],
   "source": [
    "import sqlite3\n",
    "def connect():\n",
    "    conn=sqlite3.connect('books.db')\n",
    "    cur=conn.cursor()\n",
    "    cur.execute(\"CREATE TABLE IF NOT EXISTS book(id INTERGER PRIMARY KEY,title text,author text, year integer, isbn integer)\")\n",
    "    conn.commit()\n",
    "    conn.close()\n",
    "\n",
    "def insert(title,author,year,isbn):\n",
    "    conn=sqlite3.connect('books.db')\n",
    "    cur=conn.cursor()\n",
    "    cur.execute(\"INSERT INTO book VALUES (NULL,?,?,?,?)\",(id,title,author,year,isbn))\n",
    "    conn.commit()\n",
    "    conn.close()\n",
    "def view():\n",
    "    conn=sqlite3.connect('books.db')\n",
    "    cur=conn.cursor()\n",
    "    cur.execute(\"SELECT * FROM book\")\n",
    "    rows=cur.fetchall()    \n",
    "    conn.close()\n",
    "    return rows\n",
    "\n",
    "def search(title=\"\",author=\"\",year=\"\",isbn=\"\"):\n",
    "    conn=sqlite3.connect('books.db')\n",
    "    cur=conn.cursor()\n",
    "    cur.execute(\"SELECT * FROM book WHERE title=? OR author=?,OR year=?, OR isbn=?)\",(title,author,year,isbn))\n",
    "    rows=cur.fetchall()\n",
    "    conn.commit()\n",
    "    conn.close()\n",
    "    return rows\n",
    "\n",
    "def delete(id):\n",
    "    conn=sqlite3.connect('books.db')\n",
    "    cur=conn.cursor()\n",
    "    cur.execute(\"DELETE FROM book WHERE id=?\",(id,))\n",
    "    conn.commit()    \n",
    "    conn.close()\n",
    "    \n",
    "def update(id,title,author,year,isbn):\n",
    "    conn=sqlite3.connect('books.db')\n",
    "    cur=conn.cursor()\n",
    "    cur.execute(\"UPDATE book SET title=?, author=?,year=?,isbn=? WHERE id=?\",(title,author,year,isbn,id))\n",
    "    conn.commit()    \n",
    "    conn.close()\n",
    "    \n",
    "connect()\n",
    "# delete('John Tablet')\n",
    "#update('')\n",
    "print(view())"
   ]
  },
  {
   "cell_type": "code",
   "execution_count": null,
   "metadata": {},
   "outputs": [],
   "source": []
  },
  {
   "cell_type": "code",
   "execution_count": null,
   "metadata": {},
   "outputs": [],
   "source": []
  }
 ],
 "metadata": {
  "kernelspec": {
   "display_name": "Python 3",
   "language": "python",
   "name": "python3"
  },
  "language_info": {
   "codemirror_mode": {
    "name": "ipython",
    "version": 3
   },
   "file_extension": ".py",
   "mimetype": "text/x-python",
   "name": "python",
   "nbconvert_exporter": "python",
   "pygments_lexer": "ipython3",
   "version": "3.7.7"
  }
 },
 "nbformat": 4,
 "nbformat_minor": 4
}
